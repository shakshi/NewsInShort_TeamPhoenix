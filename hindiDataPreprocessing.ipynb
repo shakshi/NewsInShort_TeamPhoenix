{
  "nbformat": 4,
  "nbformat_minor": 0,
  "metadata": {
    "colab": {
      "name": "hindiDataPreprocessing.ipynb",
      "provenance": [],
      "collapsed_sections": []
    },
    "kernelspec": {
      "name": "python3",
      "display_name": "Python 3"
    },
    "accelerator": "GPU"
  },
  "cells": [
    {
      "cell_type": "code",
      "metadata": {
        "id": "Ywj4rb7a8xTJ",
        "colab_type": "code",
        "outputId": "9b9113a4-7cc3-4dfb-c109-69752f1035d6",
        "colab": {
          "base_uri": "https://localhost:8080/",
          "height": 121
        }
      },
      "source": [
        "from google.colab import drive\n",
        "drive.mount('/content/drive')"
      ],
      "execution_count": 1,
      "outputs": [
        {
          "output_type": "stream",
          "text": [
            "Go to this URL in a browser: https://accounts.google.com/o/oauth2/auth?client_id=947318989803-6bn6qk8qdgf4n4g3pfee6491hc0brc4i.apps.googleusercontent.com&redirect_uri=urn%3aietf%3awg%3aoauth%3a2.0%3aoob&response_type=code&scope=email%20https%3a%2f%2fwww.googleapis.com%2fauth%2fdocs.test%20https%3a%2f%2fwww.googleapis.com%2fauth%2fdrive%20https%3a%2f%2fwww.googleapis.com%2fauth%2fdrive.photos.readonly%20https%3a%2f%2fwww.googleapis.com%2fauth%2fpeopleapi.readonly\n",
            "\n",
            "Enter your authorization code:\n",
            "··········\n",
            "Mounted at /content/drive\n"
          ],
          "name": "stdout"
        }
      ]
    },
    {
      "cell_type": "markdown",
      "metadata": {
        "id": "-VQWaZDNsxaT",
        "colab_type": "text"
      },
      "source": [
        "**Data collection**"
      ]
    },
    {
      "cell_type": "code",
      "metadata": {
        "id": "GJFPpyzD81m1",
        "colab_type": "code",
        "outputId": "ffa6d789-501d-4a1a-8f1f-cc41c221d562",
        "colab": {
          "base_uri": "https://localhost:8080/",
          "height": 67
        }
      },
      "source": [
        "!unzip \"/content/drive/My Drive/hindi-text-summarization-corpus.zip\""
      ],
      "execution_count": 2,
      "outputs": [
        {
          "output_type": "stream",
          "text": [
            "Archive:  /content/drive/My Drive/hindi-text-summarization-corpus.zip\n",
            "  inflating: test.csv                \n",
            "  inflating: train.csv               \n"
          ],
          "name": "stdout"
        }
      ]
    },
    {
      "cell_type": "code",
      "metadata": {
        "id": "6xqHtETEBv-0",
        "colab_type": "code",
        "colab": {}
      },
      "source": [
        "!mkdir data\n",
        "!mv test.csv data\n",
        "!mv train.csv data"
      ],
      "execution_count": 0,
      "outputs": []
    },
    {
      "cell_type": "markdown",
      "metadata": {
        "id": "knWWsRpNsd0O",
        "colab_type": "text"
      },
      "source": [
        "**Reading Data**"
      ]
    },
    {
      "cell_type": "code",
      "metadata": {
        "id": "VnwRs-qc9FKL",
        "colab_type": "code",
        "colab": {}
      },
      "source": [
        "import pandas as pd\n",
        "import csv\n",
        "import sys"
      ],
      "execution_count": 0,
      "outputs": []
    },
    {
      "cell_type": "code",
      "metadata": {
        "id": "sTqFPZmmTw1E",
        "colab_type": "code",
        "outputId": "749efec2-1cde-4271-f0d2-be87daa57d68",
        "colab": {
          "base_uri": "https://localhost:8080/",
          "height": 34
        }
      },
      "source": [
        "csv.field_size_limit(sys.maxsize)"
      ],
      "execution_count": 5,
      "outputs": [
        {
          "output_type": "execute_result",
          "data": {
            "text/plain": [
              "131072"
            ]
          },
          "metadata": {
            "tags": []
          },
          "execution_count": 5
        }
      ]
    },
    {
      "cell_type": "code",
      "metadata": {
        "id": "hfW9X73WTk7p",
        "colab_type": "code",
        "colab": {}
      },
      "source": [
        "train_df= pd.read_csv('data/train.csv', engine='python')\n",
        "test_df = pd.read_csv('data/test.csv', engine='python')"
      ],
      "execution_count": 0,
      "outputs": []
    },
    {
      "cell_type": "code",
      "metadata": {
        "id": "Av-b8lqjTbi2",
        "colab_type": "code",
        "outputId": "57d02e61-4789-4476-9332-c161ac7cc157",
        "colab": {
          "base_uri": "https://localhost:8080/",
          "height": 195
        }
      },
      "source": [
        "train_df.head()"
      ],
      "execution_count": 7,
      "outputs": [
        {
          "output_type": "execute_result",
          "data": {
            "text/html": [
              "<div>\n",
              "<style scoped>\n",
              "    .dataframe tbody tr th:only-of-type {\n",
              "        vertical-align: middle;\n",
              "    }\n",
              "\n",
              "    .dataframe tbody tr th {\n",
              "        vertical-align: top;\n",
              "    }\n",
              "\n",
              "    .dataframe thead th {\n",
              "        text-align: right;\n",
              "    }\n",
              "</style>\n",
              "<table border=\"1\" class=\"dataframe\">\n",
              "  <thead>\n",
              "    <tr style=\"text-align: right;\">\n",
              "      <th></th>\n",
              "      <th>headline</th>\n",
              "      <th>summary</th>\n",
              "      <th>article</th>\n",
              "    </tr>\n",
              "  </thead>\n",
              "  <tbody>\n",
              "    <tr>\n",
              "      <th>0</th>\n",
              "      <td>उत्तर भारत में शीत लहर जारी, लेह में पारा सात ...</td>\n",
              "      <td>NaN</td>\n",
              "      <td>उत्तर भारत में शीत लहर जारी है और पहाड़ी क्षेत...</td>\n",
              "    </tr>\n",
              "    <tr>\n",
              "      <th>1</th>\n",
              "      <td>यमन : विद्रोहियों के कब्जे वाले ताएज शहर के नि...</td>\n",
              "      <td>NaN</td>\n",
              "      <td>यमन सरकार के समर्थक बलों के विद्रोहियों के कब्...</td>\n",
              "    </tr>\n",
              "    <tr>\n",
              "      <th>2</th>\n",
              "      <td>केन्या में आतंकियों ने बस को अगवा कर 28 लोगों ...</td>\n",
              "      <td>NaN</td>\n",
              "      <td>केन्या के उत्तर में, सोमालिया के अल-शबाब गुट क...</td>\n",
              "    </tr>\n",
              "    <tr>\n",
              "      <th>3</th>\n",
              "      <td>रिम करेगा दो हजार कर्मचारियों की छंटनी</td>\n",
              "      <td>ब्लैकबेरी हैंडसेट बनाने वाली कनाडा की कंपनी रि...</td>\n",
              "      <td>ब्लैकबेरी हैंडसेट बनाने वाली कनाडा की कंपनी रि...</td>\n",
              "    </tr>\n",
              "    <tr>\n",
              "      <th>4</th>\n",
              "      <td>Puducherry: उपराज्यपाल किरण बेदी से हुआ विवाद ...</td>\n",
              "      <td>NaN</td>\n",
              "      <td>केंद्र शासित प्रदेश पुडुचेरी के मुख्यमंत्री  व...</td>\n",
              "    </tr>\n",
              "  </tbody>\n",
              "</table>\n",
              "</div>"
            ],
            "text/plain": [
              "                                            headline  ...                                            article\n",
              "0  उत्तर भारत में शीत लहर जारी, लेह में पारा सात ...  ...  उत्तर भारत में शीत लहर जारी है और पहाड़ी क्षेत...\n",
              "1  यमन : विद्रोहियों के कब्जे वाले ताएज शहर के नि...  ...  यमन सरकार के समर्थक बलों के विद्रोहियों के कब्...\n",
              "2  केन्या में आतंकियों ने बस को अगवा कर 28 लोगों ...  ...  केन्या के उत्तर में, सोमालिया के अल-शबाब गुट क...\n",
              "3           रिम करेगा दो हजार कर्मचारियों की छंटनी    ...  ब्लैकबेरी हैंडसेट बनाने वाली कनाडा की कंपनी रि...\n",
              "4  Puducherry: उपराज्यपाल किरण बेदी से हुआ विवाद ...  ...  केंद्र शासित प्रदेश पुडुचेरी के मुख्यमंत्री  व...\n",
              "\n",
              "[5 rows x 3 columns]"
            ]
          },
          "metadata": {
            "tags": []
          },
          "execution_count": 7
        }
      ]
    },
    {
      "cell_type": "markdown",
      "metadata": {
        "id": "7dFbNNzWsjmk",
        "colab_type": "text"
      },
      "source": [
        "**Cleaning data**"
      ]
    },
    {
      "cell_type": "code",
      "metadata": {
        "id": "vU5Udk-MtgHl",
        "colab_type": "code",
        "colab": {}
      },
      "source": [
        "train_df.replace(\"\", float(\"NaN\"), inplace=True)\n",
        "test_df.replace(\"\", float(\"NaN\"), inplace=True)"
      ],
      "execution_count": 0,
      "outputs": []
    },
    {
      "cell_type": "code",
      "metadata": {
        "id": "vuow3WP3EdnF",
        "colab_type": "code",
        "colab": {}
      },
      "source": [
        "# eliminating the rows dont have a summary\n",
        "train_df=train_df.dropna()\n",
        "test_df= test_df.dropna()"
      ],
      "execution_count": 0,
      "outputs": []
    },
    {
      "cell_type": "code",
      "metadata": {
        "id": "B5u2Bqb6stiW",
        "colab_type": "code",
        "colab": {
          "base_uri": "https://localhost:8080/",
          "height": 195
        },
        "outputId": "206b5e3f-f050-4938-a930-d6cc116ee3c6"
      },
      "source": [
        "train_df.head()"
      ],
      "execution_count": 10,
      "outputs": [
        {
          "output_type": "execute_result",
          "data": {
            "text/html": [
              "<div>\n",
              "<style scoped>\n",
              "    .dataframe tbody tr th:only-of-type {\n",
              "        vertical-align: middle;\n",
              "    }\n",
              "\n",
              "    .dataframe tbody tr th {\n",
              "        vertical-align: top;\n",
              "    }\n",
              "\n",
              "    .dataframe thead th {\n",
              "        text-align: right;\n",
              "    }\n",
              "</style>\n",
              "<table border=\"1\" class=\"dataframe\">\n",
              "  <thead>\n",
              "    <tr style=\"text-align: right;\">\n",
              "      <th></th>\n",
              "      <th>headline</th>\n",
              "      <th>summary</th>\n",
              "      <th>article</th>\n",
              "    </tr>\n",
              "  </thead>\n",
              "  <tbody>\n",
              "    <tr>\n",
              "      <th>3</th>\n",
              "      <td>रिम करेगा दो हजार कर्मचारियों की छंटनी</td>\n",
              "      <td>ब्लैकबेरी हैंडसेट बनाने वाली कनाडा की कंपनी रि...</td>\n",
              "      <td>ब्लैकबेरी हैंडसेट बनाने वाली कनाडा की कंपनी रि...</td>\n",
              "    </tr>\n",
              "    <tr>\n",
              "      <th>7</th>\n",
              "      <td>अमेरिका : राष्ट्रपति पद की उम्मीदवार हिलेरी क्...</td>\n",
              "      <td>श्रद्धांजलि सभा के दौरान अचानक खराब हुई हिलेरी...</td>\n",
              "      <td>अमेरिका में राष्ट्रपति पद के लिए डेमोक्रेटिक प...</td>\n",
              "    </tr>\n",
              "    <tr>\n",
              "      <th>8</th>\n",
              "      <td>देश के सर्वश्रेष्ठ स्पिनरों में से एक है हरभजन...</td>\n",
              "      <td>पूर्व भारतीय कप्तान अनिल कुंबले का मानना है कि...</td>\n",
              "      <td>पूर्व भारतीय क्रिकेट कप्तान अनिल कुंबले का मान...</td>\n",
              "    </tr>\n",
              "    <tr>\n",
              "      <th>9</th>\n",
              "      <td>इंडिगो के स्टाफ ने दिल्ली एयरपोर्ट पर पैसेंजर ...</td>\n",
              "      <td>इंडिगो के ग्राउंड स्टाफ ने यात्री से की हाथापा...</td>\n",
              "      <td>इंडिगो एयरलाइन के प्रेसीडेंट और डायरेक्टर आदित...</td>\n",
              "    </tr>\n",
              "    <tr>\n",
              "      <th>10</th>\n",
              "      <td>नव्या नवेली के साथ दोस्ती पर जावेद जाफरी के बे...</td>\n",
              "      <td>मीजान जाफरी ने किया खुलासा\\r\\nनव्या नंदा को बत...</td>\n",
              "      <td>संजय लीला भंसाली की फिल्म 'मलाल' से बॉलीवुड मे...</td>\n",
              "    </tr>\n",
              "  </tbody>\n",
              "</table>\n",
              "</div>"
            ],
            "text/plain": [
              "                                             headline  ...                                            article\n",
              "3            रिम करेगा दो हजार कर्मचारियों की छंटनी    ...  ब्लैकबेरी हैंडसेट बनाने वाली कनाडा की कंपनी रि...\n",
              "7   अमेरिका : राष्ट्रपति पद की उम्मीदवार हिलेरी क्...  ...  अमेरिका में राष्ट्रपति पद के लिए डेमोक्रेटिक प...\n",
              "8   देश के सर्वश्रेष्ठ स्पिनरों में से एक है हरभजन...  ...  पूर्व भारतीय क्रिकेट कप्तान अनिल कुंबले का मान...\n",
              "9   इंडिगो के स्टाफ ने दिल्ली एयरपोर्ट पर पैसेंजर ...  ...  इंडिगो एयरलाइन के प्रेसीडेंट और डायरेक्टर आदित...\n",
              "10  नव्या नवेली के साथ दोस्ती पर जावेद जाफरी के बे...  ...  संजय लीला भंसाली की फिल्म 'मलाल' से बॉलीवुड मे...\n",
              "\n",
              "[5 rows x 3 columns]"
            ]
          },
          "metadata": {
            "tags": []
          },
          "execution_count": 10
        }
      ]
    },
    {
      "cell_type": "code",
      "metadata": {
        "id": "bMvHMErgUH2q",
        "colab_type": "code",
        "outputId": "311d4f80-3fca-4ca1-8449-b6d388b25fe8",
        "colab": {
          "base_uri": "https://localhost:8080/",
          "height": 195
        }
      },
      "source": [
        "train_df.head()"
      ],
      "execution_count": 11,
      "outputs": [
        {
          "output_type": "execute_result",
          "data": {
            "text/html": [
              "<div>\n",
              "<style scoped>\n",
              "    .dataframe tbody tr th:only-of-type {\n",
              "        vertical-align: middle;\n",
              "    }\n",
              "\n",
              "    .dataframe tbody tr th {\n",
              "        vertical-align: top;\n",
              "    }\n",
              "\n",
              "    .dataframe thead th {\n",
              "        text-align: right;\n",
              "    }\n",
              "</style>\n",
              "<table border=\"1\" class=\"dataframe\">\n",
              "  <thead>\n",
              "    <tr style=\"text-align: right;\">\n",
              "      <th></th>\n",
              "      <th>headline</th>\n",
              "      <th>summary</th>\n",
              "      <th>article</th>\n",
              "    </tr>\n",
              "  </thead>\n",
              "  <tbody>\n",
              "    <tr>\n",
              "      <th>3</th>\n",
              "      <td>रिम करेगा दो हजार कर्मचारियों की छंटनी</td>\n",
              "      <td>ब्लैकबेरी हैंडसेट बनाने वाली कनाडा की कंपनी रि...</td>\n",
              "      <td>ब्लैकबेरी हैंडसेट बनाने वाली कनाडा की कंपनी रि...</td>\n",
              "    </tr>\n",
              "    <tr>\n",
              "      <th>7</th>\n",
              "      <td>अमेरिका : राष्ट्रपति पद की उम्मीदवार हिलेरी क्...</td>\n",
              "      <td>श्रद्धांजलि सभा के दौरान अचानक खराब हुई हिलेरी...</td>\n",
              "      <td>अमेरिका में राष्ट्रपति पद के लिए डेमोक्रेटिक प...</td>\n",
              "    </tr>\n",
              "    <tr>\n",
              "      <th>8</th>\n",
              "      <td>देश के सर्वश्रेष्ठ स्पिनरों में से एक है हरभजन...</td>\n",
              "      <td>पूर्व भारतीय कप्तान अनिल कुंबले का मानना है कि...</td>\n",
              "      <td>पूर्व भारतीय क्रिकेट कप्तान अनिल कुंबले का मान...</td>\n",
              "    </tr>\n",
              "    <tr>\n",
              "      <th>9</th>\n",
              "      <td>इंडिगो के स्टाफ ने दिल्ली एयरपोर्ट पर पैसेंजर ...</td>\n",
              "      <td>इंडिगो के ग्राउंड स्टाफ ने यात्री से की हाथापा...</td>\n",
              "      <td>इंडिगो एयरलाइन के प्रेसीडेंट और डायरेक्टर आदित...</td>\n",
              "    </tr>\n",
              "    <tr>\n",
              "      <th>10</th>\n",
              "      <td>नव्या नवेली के साथ दोस्ती पर जावेद जाफरी के बे...</td>\n",
              "      <td>मीजान जाफरी ने किया खुलासा\\r\\nनव्या नंदा को बत...</td>\n",
              "      <td>संजय लीला भंसाली की फिल्म 'मलाल' से बॉलीवुड मे...</td>\n",
              "    </tr>\n",
              "  </tbody>\n",
              "</table>\n",
              "</div>"
            ],
            "text/plain": [
              "                                             headline  ...                                            article\n",
              "3            रिम करेगा दो हजार कर्मचारियों की छंटनी    ...  ब्लैकबेरी हैंडसेट बनाने वाली कनाडा की कंपनी रि...\n",
              "7   अमेरिका : राष्ट्रपति पद की उम्मीदवार हिलेरी क्...  ...  अमेरिका में राष्ट्रपति पद के लिए डेमोक्रेटिक प...\n",
              "8   देश के सर्वश्रेष्ठ स्पिनरों में से एक है हरभजन...  ...  पूर्व भारतीय क्रिकेट कप्तान अनिल कुंबले का मान...\n",
              "9   इंडिगो के स्टाफ ने दिल्ली एयरपोर्ट पर पैसेंजर ...  ...  इंडिगो एयरलाइन के प्रेसीडेंट और डायरेक्टर आदित...\n",
              "10  नव्या नवेली के साथ दोस्ती पर जावेद जाफरी के बे...  ...  संजय लीला भंसाली की फिल्म 'मलाल' से बॉलीवुड मे...\n",
              "\n",
              "[5 rows x 3 columns]"
            ]
          },
          "metadata": {
            "tags": []
          },
          "execution_count": 11
        }
      ]
    },
    {
      "cell_type": "code",
      "metadata": {
        "id": "Ih_LOri1UJRP",
        "colab_type": "code",
        "outputId": "13c7d321-2b24-4e03-c7f3-11a6806ab8b1",
        "colab": {
          "base_uri": "https://localhost:8080/",
          "height": 34
        }
      },
      "source": [
        "# checking the size of dataset\n",
        "train_df.shape"
      ],
      "execution_count": 12,
      "outputs": [
        {
          "output_type": "execute_result",
          "data": {
            "text/plain": [
              "(69033, 3)"
            ]
          },
          "metadata": {
            "tags": []
          },
          "execution_count": 12
        }
      ]
    },
    {
      "cell_type": "code",
      "metadata": {
        "id": "Vl7z6UFvUcB9",
        "colab_type": "code",
        "outputId": "85538422-0b91-422c-dd80-b4b9e3e56c3b",
        "colab": {
          "base_uri": "https://localhost:8080/",
          "height": 34
        }
      },
      "source": [
        "test_df.shape"
      ],
      "execution_count": 13,
      "outputs": [
        {
          "output_type": "execute_result",
          "data": {
            "text/plain": [
              "(17265, 3)"
            ]
          },
          "metadata": {
            "tags": []
          },
          "execution_count": 13
        }
      ]
    },
    {
      "cell_type": "code",
      "metadata": {
        "id": "M170PyEEucbY",
        "colab_type": "code",
        "colab": {
          "base_uri": "https://localhost:8080/",
          "height": 166
        },
        "outputId": "314a3b00-e9f6-4565-cc6f-704dade85590"
      },
      "source": [
        "train_df.describe()"
      ],
      "execution_count": 17,
      "outputs": [
        {
          "output_type": "execute_result",
          "data": {
            "text/html": [
              "<div>\n",
              "<style scoped>\n",
              "    .dataframe tbody tr th:only-of-type {\n",
              "        vertical-align: middle;\n",
              "    }\n",
              "\n",
              "    .dataframe tbody tr th {\n",
              "        vertical-align: top;\n",
              "    }\n",
              "\n",
              "    .dataframe thead th {\n",
              "        text-align: right;\n",
              "    }\n",
              "</style>\n",
              "<table border=\"1\" class=\"dataframe\">\n",
              "  <thead>\n",
              "    <tr style=\"text-align: right;\">\n",
              "      <th></th>\n",
              "      <th>headline</th>\n",
              "      <th>summary</th>\n",
              "      <th>article</th>\n",
              "    </tr>\n",
              "  </thead>\n",
              "  <tbody>\n",
              "    <tr>\n",
              "      <th>count</th>\n",
              "      <td>68335</td>\n",
              "      <td>68335</td>\n",
              "      <td>68335</td>\n",
              "    </tr>\n",
              "    <tr>\n",
              "      <th>unique</th>\n",
              "      <td>68266</td>\n",
              "      <td>68298</td>\n",
              "      <td>66949</td>\n",
              "    </tr>\n",
              "    <tr>\n",
              "      <th>top</th>\n",
              "      <td>शेयर बाजारों में गिरावट का रुख</td>\n",
              "      <td>फिल्म पीएम नरेंद्र मोदी की शानदार कमाई\\r\\nअब त...</td>\n",
              "      <td>(हेडलाइन के अलावा, इस खबर को एनडीटीवी टीम ने स...</td>\n",
              "    </tr>\n",
              "    <tr>\n",
              "      <th>freq</th>\n",
              "      <td>10</td>\n",
              "      <td>3</td>\n",
              "      <td>604</td>\n",
              "    </tr>\n",
              "  </tbody>\n",
              "</table>\n",
              "</div>"
            ],
            "text/plain": [
              "                                headline  ...                                            article\n",
              "count                              68335  ...                                              68335\n",
              "unique                             68266  ...                                              66949\n",
              "top     शेयर बाजारों में गिरावट का रुख    ...  (हेडलाइन के अलावा, इस खबर को एनडीटीवी टीम ने स...\n",
              "freq                                  10  ...                                                604\n",
              "\n",
              "[4 rows x 3 columns]"
            ]
          },
          "metadata": {
            "tags": []
          },
          "execution_count": 17
        }
      ]
    }
  ]
}