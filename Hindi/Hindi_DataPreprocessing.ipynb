{
  "nbformat": 4,
  "nbformat_minor": 0,
  "metadata": {
    "colab": {
      "name": "Hindi_DataPreprocessing.ipynb",
      "provenance": [],
      "collapsed_sections": []
    },
    "kernelspec": {
      "name": "python3",
      "display_name": "Python 3"
    },
    "accelerator": "GPU"
  },
  "cells": [
    {
      "cell_type": "code",
      "metadata": {
        "id": "P8CpJt35omHy",
        "colab_type": "code",
        "outputId": "de39029d-6466-4a75-e7ac-b6bb5b7f68f0",
        "colab": {
          "base_uri": "https://localhost:8080/",
          "height": 122
        }
      },
      "source": [
        "from google.colab import drive\n",
        "drive.mount('/content/drive')"
      ],
      "execution_count": 0,
      "outputs": [
        {
          "output_type": "stream",
          "text": [
            "Go to this URL in a browser: https://accounts.google.com/o/oauth2/auth?client_id=947318989803-6bn6qk8qdgf4n4g3pfee6491hc0brc4i.apps.googleusercontent.com&redirect_uri=urn%3aietf%3awg%3aoauth%3a2.0%3aoob&response_type=code&scope=email%20https%3a%2f%2fwww.googleapis.com%2fauth%2fdocs.test%20https%3a%2f%2fwww.googleapis.com%2fauth%2fdrive%20https%3a%2f%2fwww.googleapis.com%2fauth%2fdrive.photos.readonly%20https%3a%2f%2fwww.googleapis.com%2fauth%2fpeopleapi.readonly\n",
            "\n",
            "Enter your authorization code:\n",
            "··········\n",
            "Mounted at /content/drive\n"
          ],
          "name": "stdout"
        }
      ]
    },
    {
      "cell_type": "code",
      "metadata": {
        "id": "WRcMJxfzo3Vl",
        "colab_type": "code",
        "outputId": "44f6d958-a972-4275-92d9-4ef981e65a72",
        "colab": {
          "base_uri": "https://localhost:8080/",
          "height": 68
        }
      },
      "source": [
        "# !ls /content/drive/My\\ Drive/project/\n",
        "!unzip \"/content/drive/My Drive/project/hindi_data.zip\""
      ],
      "execution_count": 0,
      "outputs": [
        {
          "output_type": "stream",
          "text": [
            "Archive:  /content/drive/My Drive/project/hindi_data.zip\n",
            "  inflating: test.csv                \n",
            "  inflating: train.csv               \n"
          ],
          "name": "stdout"
        }
      ]
    },
    {
      "cell_type": "code",
      "metadata": {
        "id": "3zq8Y1ze3t_k",
        "colab_type": "code",
        "colab": {}
      },
      "source": [
        "import codecs\n",
        "f = codecs.open(\"/content/drive/My Drive/project/stopwords.txt\", encoding='utf-8')\n",
        "stopwords = [x.strip() for x in f.readlines()]\n",
        "# print(stopwords)"
      ],
      "execution_count": 0,
      "outputs": []
    },
    {
      "cell_type": "code",
      "metadata": {
        "id": "VszH_e-Wp02l",
        "colab_type": "code",
        "colab": {}
      },
      "source": [
        "!mkdir data_hindi2\n",
        "!mv test.csv data_hindi2\n",
        "!mv train.csv data_hindi2"
      ],
      "execution_count": 0,
      "outputs": []
    },
    {
      "cell_type": "code",
      "metadata": {
        "id": "zwce7lIzqT_N",
        "colab_type": "code",
        "colab": {}
      },
      "source": [
        "import pandas as pd\n",
        "import csv\n",
        "import sys"
      ],
      "execution_count": 0,
      "outputs": []
    },
    {
      "cell_type": "code",
      "metadata": {
        "id": "MAT4XFOQqVa4",
        "colab_type": "code",
        "outputId": "d302fcaf-3c28-4c73-8b00-540b3163f8a5",
        "colab": {
          "base_uri": "https://localhost:8080/",
          "height": 34
        }
      },
      "source": [
        "csv.field_size_limit(sys.maxsize)"
      ],
      "execution_count": 0,
      "outputs": [
        {
          "output_type": "execute_result",
          "data": {
            "text/plain": [
              "131072"
            ]
          },
          "metadata": {
            "tags": []
          },
          "execution_count": 6
        }
      ]
    },
    {
      "cell_type": "code",
      "metadata": {
        "id": "KVj471xzqa55",
        "colab_type": "code",
        "colab": {}
      },
      "source": [
        "train_df= pd.read_csv('data_hindi2/train.csv', engine='python')\n",
        "test_df = pd.read_csv('data_hindi2/test.csv', engine='python')"
      ],
      "execution_count": 0,
      "outputs": []
    },
    {
      "cell_type": "code",
      "metadata": {
        "id": "dCn2nIaUrItQ",
        "colab_type": "code",
        "outputId": "901458ae-3f74-4535-fd4d-8af0662691c5",
        "colab": {
          "base_uri": "https://localhost:8080/",
          "height": 204
        }
      },
      "source": [
        "train_df.head()"
      ],
      "execution_count": 0,
      "outputs": [
        {
          "output_type": "execute_result",
          "data": {
            "text/html": [
              "<div>\n",
              "<style scoped>\n",
              "    .dataframe tbody tr th:only-of-type {\n",
              "        vertical-align: middle;\n",
              "    }\n",
              "\n",
              "    .dataframe tbody tr th {\n",
              "        vertical-align: top;\n",
              "    }\n",
              "\n",
              "    .dataframe thead th {\n",
              "        text-align: right;\n",
              "    }\n",
              "</style>\n",
              "<table border=\"1\" class=\"dataframe\">\n",
              "  <thead>\n",
              "    <tr style=\"text-align: right;\">\n",
              "      <th></th>\n",
              "      <th>headline</th>\n",
              "      <th>summary</th>\n",
              "      <th>article</th>\n",
              "    </tr>\n",
              "  </thead>\n",
              "  <tbody>\n",
              "    <tr>\n",
              "      <th>0</th>\n",
              "      <td>उत्तर भारत में शीत लहर जारी, लेह में पारा सात ...</td>\n",
              "      <td>NaN</td>\n",
              "      <td>उत्तर भारत में शीत लहर जारी है और पहाड़ी क्षेत...</td>\n",
              "    </tr>\n",
              "    <tr>\n",
              "      <th>1</th>\n",
              "      <td>यमन : विद्रोहियों के कब्जे वाले ताएज शहर के नि...</td>\n",
              "      <td>NaN</td>\n",
              "      <td>यमन सरकार के समर्थक बलों के विद्रोहियों के कब्...</td>\n",
              "    </tr>\n",
              "    <tr>\n",
              "      <th>2</th>\n",
              "      <td>केन्या में आतंकियों ने बस को अगवा कर 28 लोगों ...</td>\n",
              "      <td>NaN</td>\n",
              "      <td>केन्या के उत्तर में, सोमालिया के अल-शबाब गुट क...</td>\n",
              "    </tr>\n",
              "    <tr>\n",
              "      <th>3</th>\n",
              "      <td>रिम करेगा दो हजार कर्मचारियों की छंटनी</td>\n",
              "      <td>ब्लैकबेरी हैंडसेट बनाने वाली कनाडा की कंपनी रि...</td>\n",
              "      <td>ब्लैकबेरी हैंडसेट बनाने वाली कनाडा की कंपनी रि...</td>\n",
              "    </tr>\n",
              "    <tr>\n",
              "      <th>4</th>\n",
              "      <td>Puducherry: उपराज्यपाल किरण बेदी से हुआ विवाद ...</td>\n",
              "      <td>NaN</td>\n",
              "      <td>केंद्र शासित प्रदेश पुडुचेरी के मुख्यमंत्री  व...</td>\n",
              "    </tr>\n",
              "  </tbody>\n",
              "</table>\n",
              "</div>"
            ],
            "text/plain": [
              "                                            headline  ...                                            article\n",
              "0  उत्तर भारत में शीत लहर जारी, लेह में पारा सात ...  ...  उत्तर भारत में शीत लहर जारी है और पहाड़ी क्षेत...\n",
              "1  यमन : विद्रोहियों के कब्जे वाले ताएज शहर के नि...  ...  यमन सरकार के समर्थक बलों के विद्रोहियों के कब्...\n",
              "2  केन्या में आतंकियों ने बस को अगवा कर 28 लोगों ...  ...  केन्या के उत्तर में, सोमालिया के अल-शबाब गुट क...\n",
              "3           रिम करेगा दो हजार कर्मचारियों की छंटनी    ...  ब्लैकबेरी हैंडसेट बनाने वाली कनाडा की कंपनी रि...\n",
              "4  Puducherry: उपराज्यपाल किरण बेदी से हुआ विवाद ...  ...  केंद्र शासित प्रदेश पुडुचेरी के मुख्यमंत्री  व...\n",
              "\n",
              "[5 rows x 3 columns]"
            ]
          },
          "metadata": {
            "tags": []
          },
          "execution_count": 8
        }
      ]
    },
    {
      "cell_type": "code",
      "metadata": {
        "id": "_tvkdSJcrMIv",
        "colab_type": "code",
        "colab": {}
      },
      "source": [
        "train_df.replace(\"\", float(\"NaN\"), inplace=True)\n",
        "test_df.replace(\"\", float(\"NaN\"), inplace=True)"
      ],
      "execution_count": 0,
      "outputs": []
    },
    {
      "cell_type": "code",
      "metadata": {
        "id": "mBMPfTjFrXom",
        "colab_type": "code",
        "colab": {}
      },
      "source": [
        "train_df=train_df.dropna()\n",
        "test_df= test_df.dropna()"
      ],
      "execution_count": 0,
      "outputs": []
    },
    {
      "cell_type": "code",
      "metadata": {
        "id": "0_rKU5lWwUTm",
        "colab_type": "code",
        "colab": {}
      },
      "source": [
        "#add digits if performance not good\n",
        "import re\n",
        "def clean_text(text):\n",
        "  # text = self.text\n",
        "  text = re.sub(r'(\\d+)', r'', text)\n",
        "  text = re.sub(r'([#?@-])(\\w+)\\b', r'', text)\n",
        "  text = re.sub(r'[_\"\\-;%()|+&=*%,.!?:#$@\\[\\]/]', ' ', text)\n",
        "  text = text.replace('\\n', '')\n",
        "  text = text.replace(\"/\", '')\n",
        "  text = text.replace(u'।', '')\n",
        "  text = text.replace(u',', '')\n",
        "  text = text.replace(u'-', '')\n",
        "  text = text.replace(u'\"', '')\n",
        "  text = text.replace(u'(', '')\n",
        "  text = text.replace(u')', '')\n",
        "  text = text.replace(u'\"', '')\n",
        "  text = text.replace(u':', '')\n",
        "  text = text.replace(u\"'\", '')\n",
        "  text = text.replace(u\"’\", '')\n",
        "  text = text.replace(u\"‘\", '')\n",
        "  text = text.replace(u\"‘‘\", '')\n",
        "  text = text.replace(u\"’’\", '')\n",
        "  text = text.replace(u\"''\", '')\n",
        "  text = text.replace(u\".\", '')\n",
        "  # print(type(text))\n",
        "  # print(text)\n",
        "  # print(\"printing split\")\n",
        "  # print(text.split())\n",
        "  remove_stopwords = False\n",
        "\n",
        "  return text\n",
        "\n"
      ],
      "execution_count": 0,
      "outputs": []
    },
    {
      "cell_type": "code",
      "metadata": {
        "id": "MctV_k-JVNHK",
        "colab_type": "code",
        "colab": {}
      },
      "source": [
        "def remove_stopwords(text):\n",
        "  text = text.split()\n",
        "  # print(text)\n",
        "  text = [w for w in text if not w in stopwords and not re.match(r'[a-zA-Z]+', w)]\n",
        "  text = \" \".join(text)\n",
        "\n",
        "  return text"
      ],
      "execution_count": 0,
      "outputs": []
    },
    {
      "cell_type": "code",
      "metadata": {
        "id": "i1o4QMCtVDZN",
        "colab_type": "code",
        "colab": {}
      },
      "source": [
        "def clean_summaries(text):\n",
        "  text = text.split()\n",
        "  # print(text)\n",
        "  text = [w for w in text if not re.match(r'[a-zA-Z]+', w)]\n",
        "  text = \" \".join(text)\n",
        "\n",
        "  return text"
      ],
      "execution_count": 0,
      "outputs": []
    },
    {
      "cell_type": "code",
      "metadata": {
        "id": "JFi_u4qfSn6I",
        "colab_type": "code",
        "colab": {}
      },
      "source": [
        "#cleaning and removing stopwords and english words\n",
        "train_df['article'] = train_df['article'].apply(clean_text)\n",
        "train_df['article'] = train_df['article'].apply(remove_stopwords)\n",
        "train_df['summary'] = train_df['summary'].apply(clean_text)\n"
      ],
      "execution_count": 0,
      "outputs": []
    },
    {
      "cell_type": "code",
      "metadata": {
        "id": "oIZw0W6WVS64",
        "colab_type": "code",
        "colab": {}
      },
      "source": [
        "train_df['summary'] = train_df['summary'].apply(clean_summaries)"
      ],
      "execution_count": 0,
      "outputs": []
    },
    {
      "cell_type": "code",
      "metadata": {
        "id": "a_stQ8FKwmQV",
        "colab_type": "code",
        "outputId": "9f2116b7-84bb-4190-e457-587a1f824703",
        "colab": {
          "base_uri": "https://localhost:8080/",
          "height": 51
        }
      },
      "source": [
        "#printing the number of articles and summaries after cleaning\n",
        "articles = train_df['article']\n",
        "summary = train_df['summary']\n",
        "print(len(articles))\n",
        "print(len(summary))\n"
      ],
      "execution_count": 0,
      "outputs": [
        {
          "output_type": "stream",
          "text": [
            "69033\n",
            "69033\n"
          ],
          "name": "stdout"
        }
      ]
    },
    {
      "cell_type": "code",
      "metadata": {
        "id": "7EC3e7na54E4",
        "colab_type": "code",
        "outputId": "e6a8eb59-de1a-42ec-fdc2-a4293b1455d2",
        "colab": {
          "base_uri": "https://localhost:8080/",
          "height": 51
        }
      },
      "source": [
        "#printing articles after cleaning few aeticles can actually be empty string\n",
        "count = 1\n",
        "for summ in summary :\n",
        "  print(\"----------------------------------------------\")\n",
        "  if summ == \"\":\n",
        "    print(\"empty\")\n",
        "  print(summ)\n",
        "  count -= 1\n",
        "  if count == 0:\n",
        "    break"
      ],
      "execution_count": 0,
      "outputs": [
        {
          "output_type": "stream",
          "text": [
            "----------------------------------------------\n",
            "ब्लैकबेरी हैंडसेट बनाने वाली कनाडा की कंपनी रिसर्च इन मोशन रिम अपनी पुनर्गठन योजना के तहत अगले कुछ सप्ताह में वैश्विक स्तर पर कर्मचारियों की छंटनी करेगी\n"
          ],
          "name": "stdout"
        }
      ]
    },
    {
      "cell_type": "code",
      "metadata": {
        "id": "1CMdbDqcEpDc",
        "colab_type": "code",
        "colab": {}
      },
      "source": [
        "#removing those articles which are empty \n",
        "import numpy as np\n",
        "\n",
        "train_df['article'].replace('', np.nan, inplace=True)\n",
        "train_df['summary'].replace('', np.nan, inplace=True)"
      ],
      "execution_count": 0,
      "outputs": []
    },
    {
      "cell_type": "code",
      "metadata": {
        "id": "Bxpc8TRoE94m",
        "colab_type": "code",
        "colab": {}
      },
      "source": [
        "\n",
        "train_df.dropna(subset=['article'], inplace=True)\n",
        "train_df.dropna(subset=['summary'], inplace=True)"
      ],
      "execution_count": 0,
      "outputs": []
    },
    {
      "cell_type": "code",
      "metadata": {
        "id": "1myNX-l_EXIA",
        "colab_type": "code",
        "outputId": "cd4e76ec-f23b-47da-a025-a4741d629d13",
        "colab": {
          "base_uri": "https://localhost:8080/",
          "height": 105
        }
      },
      "source": [
        "#printing first 100 articles after droping empty articles\n",
        "articles = train_df['article']\n",
        "print(len(articles))\n",
        "print(len(train_df['summary']))\n",
        "count = 1\n",
        "for article in articles :\n",
        "  print(\"----------------------------------------------\")\n",
        "  if article == \"\":\n",
        "    print(\"empty\")\n",
        "  print(article)\n",
        "  count -= 1\n",
        "  if count == 0:\n",
        "    break"
      ],
      "execution_count": 0,
      "outputs": [
        {
          "output_type": "stream",
          "text": [
            "64962\n",
            "64962\n",
            "----------------------------------------------\n",
            "ब्लैकबेरी हैंडसेट बनाने वाली कनाडा कंपनी रिसर्च मोशन रिम पुनर्गठन योजना तहत अगले सप्ताह वैश्विक स्तर कर्मचारियों छंटनी करेगी द ग्लोब एंड मेल कंपनी नजदीकी सूत्रों हवाले प्रकाशित खबर रिम वैश्विक स्तर बड़े पुनर्गठन तैयारी रही अगले सप्ताह वैश्विक स्तर नौकरियों कटौती करेगी रिपोर्ट छंटनी आंकड़ा इससे बड़ा द ग्लोब एंड मेल कंपनी नजदीकी सूत्रों हवाले प्रकाशित खबर रिम वैश्विक स्तर बड़े पुनर्गठन तैयारी रही अगले सप्ताह वैश्विक स्तर नौकरियों कटौती करेगी रिपोर्ट छंटनी आंकड़ा इससे बड़ा\n"
          ],
          "name": "stdout"
        }
      ]
    },
    {
      "cell_type": "code",
      "metadata": {
        "id": "ZVQ0VpvvFxq0",
        "colab_type": "code",
        "outputId": "d1785e57-e986-4231-e904-bd6c223d6b43",
        "colab": {
          "base_uri": "https://localhost:8080/",
          "height": 204
        }
      },
      "source": [
        "train_df.head()"
      ],
      "execution_count": 0,
      "outputs": [
        {
          "output_type": "execute_result",
          "data": {
            "text/html": [
              "<div>\n",
              "<style scoped>\n",
              "    .dataframe tbody tr th:only-of-type {\n",
              "        vertical-align: middle;\n",
              "    }\n",
              "\n",
              "    .dataframe tbody tr th {\n",
              "        vertical-align: top;\n",
              "    }\n",
              "\n",
              "    .dataframe thead th {\n",
              "        text-align: right;\n",
              "    }\n",
              "</style>\n",
              "<table border=\"1\" class=\"dataframe\">\n",
              "  <thead>\n",
              "    <tr style=\"text-align: right;\">\n",
              "      <th></th>\n",
              "      <th>headline</th>\n",
              "      <th>summary</th>\n",
              "      <th>article</th>\n",
              "    </tr>\n",
              "  </thead>\n",
              "  <tbody>\n",
              "    <tr>\n",
              "      <th>3</th>\n",
              "      <td>रिम करेगा दो हजार कर्मचारियों की छंटनी</td>\n",
              "      <td>ब्लैकबेरी हैंडसेट बनाने वाली कनाडा की कंपनी रि...</td>\n",
              "      <td>ब्लैकबेरी हैंडसेट बनाने वाली कनाडा कंपनी रिसर्...</td>\n",
              "    </tr>\n",
              "    <tr>\n",
              "      <th>7</th>\n",
              "      <td>अमेरिका : राष्ट्रपति पद की उम्मीदवार हिलेरी क्...</td>\n",
              "      <td>श्रद्धांजलि सभा के दौरान अचानक खराब हुई हिलेरी...</td>\n",
              "      <td>अमेरिका राष्ट्रपति पद डेमोक्रेटिक पार्टी उम्मी...</td>\n",
              "    </tr>\n",
              "    <tr>\n",
              "      <th>8</th>\n",
              "      <td>देश के सर्वश्रेष्ठ स्पिनरों में से एक है हरभजन...</td>\n",
              "      <td>पूर्व भारतीय कप्तान अनिल कुंबले का मानना है कि...</td>\n",
              "      <td>पूर्व भारतीय क्रिकेट कप्तान अनिल कुंबले मानना ...</td>\n",
              "    </tr>\n",
              "    <tr>\n",
              "      <th>9</th>\n",
              "      <td>इंडिगो के स्टाफ ने दिल्ली एयरपोर्ट पर पैसेंजर ...</td>\n",
              "      <td>इंडिगो के ग्राउंड स्टाफ ने यात्री से की हाथापा...</td>\n",
              "      <td>इंडिगो एयरलाइन प्रेसीडेंट डायरेक्टर आदित्य घोष...</td>\n",
              "    </tr>\n",
              "    <tr>\n",
              "      <th>10</th>\n",
              "      <td>नव्या नवेली के साथ दोस्ती पर जावेद जाफरी के बे...</td>\n",
              "      <td>मीजान जाफरी ने किया खुलासा नव्या नंदा को बताया...</td>\n",
              "      <td>संजय लीला भंसाली फिल्म मलाल बॉलीवुड कदम रखने म...</td>\n",
              "    </tr>\n",
              "  </tbody>\n",
              "</table>\n",
              "</div>"
            ],
            "text/plain": [
              "                                             headline  ...                                            article\n",
              "3            रिम करेगा दो हजार कर्मचारियों की छंटनी    ...  ब्लैकबेरी हैंडसेट बनाने वाली कनाडा कंपनी रिसर्...\n",
              "7   अमेरिका : राष्ट्रपति पद की उम्मीदवार हिलेरी क्...  ...  अमेरिका राष्ट्रपति पद डेमोक्रेटिक पार्टी उम्मी...\n",
              "8   देश के सर्वश्रेष्ठ स्पिनरों में से एक है हरभजन...  ...  पूर्व भारतीय क्रिकेट कप्तान अनिल कुंबले मानना ...\n",
              "9   इंडिगो के स्टाफ ने दिल्ली एयरपोर्ट पर पैसेंजर ...  ...  इंडिगो एयरलाइन प्रेसीडेंट डायरेक्टर आदित्य घोष...\n",
              "10  नव्या नवेली के साथ दोस्ती पर जावेद जाफरी के बे...  ...  संजय लीला भंसाली फिल्म मलाल बॉलीवुड कदम रखने म...\n",
              "\n",
              "[5 rows x 3 columns]"
            ]
          },
          "metadata": {
            "tags": []
          },
          "execution_count": 19
        }
      ]
    },
    {
      "cell_type": "code",
      "metadata": {
        "id": "y7E-q3HPdzx8",
        "colab_type": "code",
        "colab": {}
      },
      "source": [
        "\n",
        "train_df = train_df[train_df['article'].str.split().str.len().gt(50)]\n",
        "train_df = train_df[train_df['article'].str.split().str.len().lt(10000)]\n",
        "train_df = train_df[train_df['summary'].str.split().str.len().gt(2)]\n",
        "\n"
      ],
      "execution_count": 0,
      "outputs": []
    },
    {
      "cell_type": "code",
      "metadata": {
        "id": "WHOayk18d8bL",
        "colab_type": "code",
        "outputId": "631e026e-a422-42a2-f6d2-b048d631383c",
        "colab": {
          "base_uri": "https://localhost:8080/",
          "height": 105
        }
      },
      "source": [
        "#printing first 100 articles after removing articles with length less than 20\n",
        "articles = train_df['article']\n",
        "print(len(articles))\n",
        "print(len(train_df['summary']))\n",
        "count = 1\n",
        "for article in articles :\n",
        "  print(\"----------------------------------------------\")\n",
        "  if article == \"\":\n",
        "    print(\"empty\")\n",
        "  print(article)\n",
        "  count -= 1\n",
        "  if count == 0:\n",
        "    break"
      ],
      "execution_count": 0,
      "outputs": [
        {
          "output_type": "stream",
          "text": [
            "56115\n",
            "56115\n",
            "----------------------------------------------\n",
            "ब्लैकबेरी हैंडसेट बनाने वाली कनाडा कंपनी रिसर्च मोशन रिम पुनर्गठन योजना तहत अगले सप्ताह वैश्विक स्तर कर्मचारियों छंटनी करेगी द ग्लोब एंड मेल कंपनी नजदीकी सूत्रों हवाले प्रकाशित खबर रिम वैश्विक स्तर बड़े पुनर्गठन तैयारी रही अगले सप्ताह वैश्विक स्तर नौकरियों कटौती करेगी रिपोर्ट छंटनी आंकड़ा इससे बड़ा द ग्लोब एंड मेल कंपनी नजदीकी सूत्रों हवाले प्रकाशित खबर रिम वैश्विक स्तर बड़े पुनर्गठन तैयारी रही अगले सप्ताह वैश्विक स्तर नौकरियों कटौती करेगी रिपोर्ट छंटनी आंकड़ा इससे बड़ा\n"
          ],
          "name": "stdout"
        }
      ]
    },
    {
      "cell_type": "code",
      "metadata": {
        "id": "4gIYb-SkAxst",
        "colab_type": "code",
        "colab": {}
      },
      "source": [
        "train_df.to_csv ('/content/drive/My Drive/hindiDataCleaned.csv')"
      ],
      "execution_count": 0,
      "outputs": []
    }
  ]
}